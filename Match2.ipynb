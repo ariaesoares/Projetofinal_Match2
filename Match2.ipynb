{
  "nbformat": 4,
  "nbformat_minor": 0,
  "metadata": {
    "colab": {
      "provenance": [],
      "include_colab_link": true
    },
    "kernelspec": {
      "name": "python3",
      "display_name": "Python 3"
    },
    "language_info": {
      "name": "python"
    }
  },
  "cells": [
    {
      "cell_type": "markdown",
      "metadata": {
        "id": "view-in-github",
        "colab_type": "text"
      },
      "source": [
        "<a href=\"https://colab.research.google.com/github/arieesoares/Projetofinal_Match2/blob/main/Match2.ipynb\" target=\"_parent\"><img src=\"https://colab.research.google.com/assets/colab-badge.svg\" alt=\"Open In Colab\"/></a>"
      ]
    },
    {
      "cell_type": "code",
      "execution_count": null,
      "metadata": {
        "id": "zrL36FfRebbg"
      },
      "outputs": [],
      "source": [
        "import datetime\n",
        "import re\n",
        "\n",
        "data_atual = datetime.datetime.now()\n",
        "\n",
        "print(\"\\nExplore seu Potencial em TI: Inscreva-se no Workshop de Desenvolvimento de Software!\\n \\nNão perca essa oportunidade de transformar seu interesse em tecnologia em uma carreira promissora!\\nEmbarque em uma jornada de aprendizado e inovação!\\n\")\n",
        "\n",
        "print(\"\\nAviso Importante:\\nEste evento é exclusivo para:\\n- Moradores do estado de São Paulo.\\n- Maiores de 18 anos.\\n- O evento aceitará apenas as primeiras 50 inscrições.\\n\")\n",
        "\n",
        "limite_vagas = 50\n",
        "vagas_preenchidas = 0\n",
        "\n",
        "\n",
        "print(\"INFORMAÇÕES PESSOAIS\\n\")\n",
        "\n",
        "nome = input(\"Nome completo: \")\n",
        "data_nasc_str = input(\"Data de Nascimento (dd/mm/aaaa): \")\n",
        "cep = input(\"Digite seu CEP (xxxxx-xxx):\")\n",
        "end1 = input(\"Endereço: \")\n",
        "num = int(input(\"Número: \"))\n",
        "bairro = input(\"Bairro: \")\n",
        "cidade = input(\"Cidade: \")\n",
        "uf = input(\"UF: \").upper()\n",
        "email = input(\"E-mail: \")\n",
        "reside_sp = input(\"\\nVocê reside no estado de São Paulo? (S/N) \").upper() == \"S\"\n",
        "horario_ok = input(\"\\nVocê tem disponibilidade para participar do evento à noite? (S/N) \").upper() == \"S\"\n",
        "\n",
        "data_nascimento = datetime.datetime.strptime(data_nasc_str, \"%d/%m/%Y\")\n",
        "idade = data_atual.year - data_nascimento.year\n",
        "if (data_atual.month, data_atual.day) < (data_nascimento.month, data_nascimento.day):\n",
        "    idade -= 1\n",
        "\n",
        "if idade < 18:\n",
        "    print(\"\\n**Infelizmente, apenas maiores de 18 anos podem se inscrever. Agradecemos seu interesse**\\n\")\n",
        "    exit()\n",
        "\n",
        "if not uf == 'SP':\n",
        "    print(\"\\nInfelizmente, sua inscrição não é válida para o evento, mas não desanime, aguarde novas oportunidades.\\n\")\n",
        "    exit()\n",
        "\n",
        "# Verifica se o email está no formato permitido\n",
        "if not re.match(r\"[^@]+@[^@]+\\.[^@]+\", email):\n",
        "    print(\"\\nPor favor, insira um endereço de e-mail válido.\\n\")\n",
        "    exit()\n",
        "\n",
        "if not reside_sp:\n",
        "    print(\"\\nInfelizmente, sua inscrição não é válida para o evento, mas não desanime, aguarde novas oportunidades.\\n\")\n",
        "    exit()\n",
        "\n",
        "if not horario_ok:\n",
        "    print(\"\\nInfelizmente, sua inscrição não é válida para o evento, mas não desanime, aguarde novas oportunidades.\\n\")\n",
        "    exit()\n",
        "\n",
        "if vagas_preenchidas >= limite_vagas:\n",
        "    print(\"\\n**As inscrições foram encerradas. Agradecemos o seu interesse!**\\n\")\n",
        "    exit()\n",
        "\n",
        "# Inscrição validada\n",
        "def inscricao_valida():\n",
        "    if reside_sp and horario_ok:\n",
        "        print(\"\\nInscrição validada! Aguardamos sua presença no evento.\\n\")\n",
        "        return True\n",
        "    else:\n",
        "        return False\n",
        "\n",
        "if inscricao_valida():\n",
        "    vagas_preenchidas += 1\n",
        "    ultimas_vagas = limite_vagas - vagas_preenchidas\n",
        "    print(f\"\\n{ultimas_vagas} VAGAS REMANESCENTES\")"
      ]
    },
    {
      "cell_type": "code",
      "source": [
        "\n"
      ],
      "metadata": {
        "id": "qjxw9-u6fPHw"
      },
      "execution_count": null,
      "outputs": []
    }
  ]
}